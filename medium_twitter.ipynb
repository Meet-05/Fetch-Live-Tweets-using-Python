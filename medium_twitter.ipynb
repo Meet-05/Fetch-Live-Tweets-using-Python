{
 "cells": [
  {
   "cell_type": "code",
   "execution_count": 1,
   "id": "decent-acoustic",
   "metadata": {},
   "outputs": [],
   "source": [
    "\n",
    "\n",
    "import tweepy\n",
    "import json\n",
    "import time\n",
    "import json"
   ]
  },
  {
   "cell_type": "code",
   "execution_count": 2,
   "id": "forward-swiss",
   "metadata": {},
   "outputs": [
    {
     "name": "stdout",
     "output_type": "stream",
     "text": [
      "Authenctication completed succesfully\n"
     ]
    }
   ],
   "source": [
    "#reading credentials\n",
    "file=open(\"Credentials.json\")\n",
    "credentials = json.load(file)\n",
    "consumer_key = credentials[\"consumer_key\"]\n",
    "consumer_secret =credentials[\"consumer_secret\"] \n",
    "access_key = credentials[\"access_key\"]\n",
    "access_secret = credentials[\"access_secret\"]\n",
    "auth = tweepy.OAuthHandler(consumer_key, consumer_secret)\n",
    "auth.set_access_token(access_key, access_secret)\n",
    "api = tweepy.API(auth)\n",
    "print(\"Authenctication completed succesfully\")\n",
    "\n"
   ]
  },
  {
   "cell_type": "code",
   "execution_count": 3,
   "id": "deadly-flooring",
   "metadata": {},
   "outputs": [
    {
     "name": "stdout",
     "output_type": "stream",
     "text": [
      "Meet56428366\n"
     ]
    }
   ],
   "source": [
    "# vverifying the authentication\n",
    "print(api.me().screen_name)\n"
   ]
  },
  {
   "cell_type": "code",
   "execution_count": 4,
   "id": "distributed-houston",
   "metadata": {},
   "outputs": [],
   "source": [
    "#utility funcitons\n",
    "import random\n",
    "\n",
    " \n",
    "def print_data(data):\n",
    "        tweet_text=data['text'] if 'text' in data.keys() else None\n",
    "        created_at=data['created_at'] if 'created_at' in data.keys() else None\n",
    "        tweet_reply_count=data['reply_count'] if 'reply_count' in data.keys() else None\n",
    "        user_screename=data['user']['screen_name']if 'screen_name' in data['user'].keys() else None\n",
    "        user_location=data['user']['location'] if 'location' in data['user'].keys() else None\n",
    "        user_friends_count=data['user']['friends_count'] if 'friends_count' in data['user'].keys() else None\n",
    "        user_follower_count=data['user']['followers_count'] if 'followers_count' in data['user'].keys() else None     \n",
    "        print(\"------------------------------------------------------------------------\")\n",
    "        print(f\"Tweet Text : {tweet_text}:\")\n",
    "        print(f\"Tweeted  At :{created_at}\") \n",
    "        print(f\"Username :{user_screename}\")\n",
    "        print(f\"Location :{user_location}\")\n",
    "        print(f\"User friends count {user_friends_count}\")\n",
    "        print(f\"User Follower Count:{user_follower_count}\")"
   ]
  },
  {
   "cell_type": "code",
   "execution_count": 7,
   "id": "cardiovascular-devil",
   "metadata": {},
   "outputs": [],
   "source": [
    "\n",
    "\n",
    "class Listner(tweepy.StreamListener):\n",
    "    def __init__(self):\n",
    "        self.counter=0\n",
    "        \n",
    "    def on_data(self,raw_data):\n",
    "        self.counter+=1\n",
    "        if(self.counter==10):\n",
    "            return False\n",
    "        print_data(json.loads(raw_data) )\n",
    "        return True\n",
    "\n",
    "    def on_error(self,status_code):\n",
    "        if status_code==420:\n",
    "            print(\"Oops, Something went Wrong!\")\n",
    "            return False\n",
    "\n",
    "class StreamBuilder():\n",
    "    def __init__(self,auth,listener):\n",
    "        self.stream=tweepy.Stream(auth=auth,listener=listener)\n",
    "    \n",
    "    def start(self,target_words):\n",
    "        self.stream.filter(track=target_words)\n"
   ]
  },
  {
   "cell_type": "code",
   "execution_count": 9,
   "id": "determined-content",
   "metadata": {},
   "outputs": [
    {
     "name": "stdout",
     "output_type": "stream",
     "text": [
      "------------------------------------------------------------------------\n",
      "Tweet Text : RT @AirdropStario: 💧 ITSBLOC Airdrop 💧\n",
      "\n",
      "🏆 Task:     ➕ $6 worth of ITSB for 1000 random participants each.\n",
      "\n",
      "👨‍👩‍👧 Referral: ➕ $1000 worth of…:\n",
      "Tweeted  At :Fri Aug 12 19:26:25 +0000 2022\n",
      "Username :phuong_jocelyn\n",
      "Location :None\n",
      "User friends count 43\n",
      "User Follower Count:5\n",
      "------------------------------------------------------------------------\n",
      "Tweet Text : @ncwvanq @tier1brick @DininhoNFT While #Bitcoin was down 40% #SPKY was Up 70% That’s as #Bullish as it gets in a… https://t.co/gtTv7UDJm5:\n",
      "Tweeted  At :Fri Aug 12 19:26:26 +0000 2022\n",
      "Username :bode50996992\n",
      "Location :None\n",
      "User friends count 2\n",
      "User Follower Count:0\n",
      "------------------------------------------------------------------------\n",
      "Tweet Text : RT @fakhro1: Closest guess of Bitcoin price on August 30th gets a $100 airdrop 😎\n",
      "Last date to guess is 25th.\n",
      "Follow, retweet, and tag 3 fri…:\n",
      "Tweeted  At :Fri Aug 12 19:26:26 +0000 2022\n",
      "Username :MrKripi_716\n",
      "Location :United States\n",
      "User friends count 1984\n",
      "User Follower Count:1250\n",
      "------------------------------------------------------------------------\n",
      "Tweet Text : @BitcoinhelperNl Bitcoin 2.0 NTF lottery \n",
      "Lottery ticket with every NFT bought in August \n",
      "2x winners receive 0.85bn… https://t.co/Onrwzv4sKS:\n",
      "Tweeted  At :Fri Aug 12 19:26:26 +0000 2022\n",
      "Username :FineThankYou14\n",
      "Location :None\n",
      "User friends count 37\n",
      "User Follower Count:0\n",
      "------------------------------------------------------------------------\n",
      "Tweet Text : RT @MaximusMech: GM! \n",
      "\n",
      "Maximus will introduce a new era of High Fidelity NFTs!! 🤖🪛⚙️\n",
      "\n",
      "#NFTs #NFTCommunity #NFTGiveaway #Metaverse #Altcoins…:\n",
      "Tweeted  At :Fri Aug 12 19:26:26 +0000 2022\n",
      "Username :MonkeysPaw5\n",
      "Location :None\n",
      "User friends count 3440\n",
      "User Follower Count:48\n",
      "------------------------------------------------------------------------\n",
      "Tweet Text : RT @DMM_Bitcoin: ／\n",
      "【毎日参加！】400名様に👀❕その場で当たる🎯\n",
      "🎉 #フォローRTキャンペーン 🎉\n",
      "500円分のデジタルギフトをプレゼント🎁✨\n",
      "＼\n",
      "\n",
      "■応募方法\n",
      "①@DMM_Bitcoinをフォロー\n",
      "②この投稿をRT\n",
      "③以下のURLから抽選！\n",
      "https:…:\n",
      "Tweeted  At :Fri Aug 12 19:26:26 +0000 2022\n",
      "Username :masa29126\n",
      "Location :None\n",
      "User friends count 4668\n",
      "User Follower Count:419\n",
      "------------------------------------------------------------------------\n",
      "Tweet Text : @bjnovak Hi There!\n",
      "Download BitDeer mining application and start mining Bitcoin and Tron cloud mining in your smart… https://t.co/DZTLqP5Fw6:\n",
      "Tweeted  At :Fri Aug 12 19:26:26 +0000 2022\n",
      "Username :NairobiParis\n",
      "Location :None\n",
      "User friends count 915\n",
      "User Follower Count:28\n",
      "------------------------------------------------------------------------\n",
      "Tweet Text : Check out my item listing on OpenSea! https://t.co/i6Av1XBGeE via @opensea:\n",
      "Tweeted  At :Fri Aug 12 19:26:26 +0000 2022\n",
      "Username :femmelq14\n",
      "Location :None\n",
      "User friends count 19\n",
      "User Follower Count:1\n",
      "------------------------------------------------------------------------\n",
      "Tweet Text : @NFTified https://t.co/52pT1ZaQoQ:\n",
      "Tweeted  At :Fri Aug 12 19:26:27 +0000 2022\n",
      "Username :BrianKola4\n",
      "Location :None\n",
      "User friends count 13\n",
      "User Follower Count:1\n",
      "Scraping has completed!\n"
     ]
    }
   ],
   "source": [
    "listener=Listner()\n",
    "stream=StreamBuilder(auth,listener)\n",
    "stream.start(['ethereum',\"bitcoin\"]) \n",
    "print('Scraping has completed!')"
   ]
  },
  {
   "cell_type": "code",
   "execution_count": null,
   "id": "another-separate",
   "metadata": {},
   "outputs": [],
   "source": []
  }
 ],
 "metadata": {
  "kernelspec": {
   "display_name": "Python 3",
   "language": "python",
   "name": "python3"
  },
  "language_info": {
   "codemirror_mode": {
    "name": "ipython",
    "version": 3
   },
   "file_extension": ".py",
   "mimetype": "text/x-python",
   "name": "python",
   "nbconvert_exporter": "python",
   "pygments_lexer": "ipython3",
   "version": "3.9.2"
  }
 },
 "nbformat": 4,
 "nbformat_minor": 5
}
